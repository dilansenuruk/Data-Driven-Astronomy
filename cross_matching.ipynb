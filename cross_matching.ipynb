{
 "cells": [
  {
   "attachments": {},
   "cell_type": "markdown",
   "metadata": {},
   "source": [
    "# Cross Matching"
   ]
  },
  {
   "cell_type": "code",
   "execution_count": 1,
   "metadata": {},
   "outputs": [],
   "source": [
    "#importing libraries\n",
    "import numpy as np"
   ]
  },
  {
   "cell_type": "code",
   "execution_count": 2,
   "metadata": {},
   "outputs": [
    {
     "name": "stdout",
     "output_type": "stream",
     "text": [
      "[(1, 2, 0.00010988610938710059), (2, 4, 0.0007649845967242494), (3, 5, 0.00020863352870707666)]\n",
      "[5, 6, 11]\n",
      "9\n",
      "[(1, 2, 0.00010988610938710059), (2, 4, 0.0007649845967242494), (3, 5, 0.00020863352870707666)]\n",
      "[5, 6, 11]\n",
      "40\n"
     ]
    }
   ],
   "source": [
    "#importing the AT20G bss catalogue\n",
    "def import_bss():\n",
    "  cat = np.loadtxt('./catalogues/bss.dat', usecols=range(1, 7))\n",
    "  my_list = []\n",
    "  for i, list_ in enumerate(cat):\n",
    "    ra = 15 * (list_[0] + list_[1]/60 + list_[2]/(60*60))\n",
    "    dec = (list_[3]/abs(list_[3])) * (abs(list_[3]) + list_[4]/60 + list_[5]/(60*60))\n",
    "    my_list.append((i + 1, ra, dec))\n",
    "  return my_list\n",
    "\n",
    "#importing the SuperCOSMOS catalogue\n",
    "def import_super():\n",
    "  cat = np.loadtxt('./catalogues/super.csv', delimiter=',', skiprows=1, usecols=[0, 1])\n",
    "  my_list = []\n",
    "  for i, list_ in enumerate(cat):\n",
    "    my_list.append((i + 1, list_[0], list_[1]))\n",
    "  return my_list\n",
    "\n",
    "#calculating the angular distance over the celestial sphere of two coordinates using haversine formula\n",
    "def angular_dist(ra1, dec1, ra2, dec2):\n",
    "  r1 = np.radians(ra1)\n",
    "  d1 = np.radians(dec1)\n",
    "  r2 = np.radians(ra2)\n",
    "  d2 = np.radians(dec2)\n",
    "  a = np.sin(np.abs(d1 - d2)/2)**2\n",
    "  b = np.cos(d1)*np.cos(d2)*np.sin(np.abs(r1 - r2)/2)**2\n",
    "  d = np.degrees(2*np.arcsin(np.sqrt(a + b)))\n",
    "  return d\n",
    "\n",
    "#crossmatching two catalogues to get matches and no matches \n",
    "def crossmatch(bss_cat, super_cat, max_radius):\n",
    "  matches = []\n",
    "  no_matches = []\n",
    "  for i in bss_cat:\n",
    "    closest_dist = 180\n",
    "    ra1, dec1 = i[1], i[2]\n",
    "    for j in super_cat:\n",
    "      ra2, dec2 = j[1], j[2]\n",
    "      d = angular_dist(ra1, dec1, ra2, dec2)\n",
    "      if (d < closest_dist):\n",
    "        closest_dist = d\n",
    "        my_tuple = (j[0], closest_dist)\n",
    "    if (closest_dist > max_radius):\n",
    "      no_matches.append(i[0])\n",
    "    else:\n",
    "      matches.append((i[0], my_tuple[0], my_tuple[1]))\n",
    "  return matches, no_matches\n",
    "\n",
    "if __name__ == '__main__':\n",
    "  bss_cat = import_bss()\n",
    "  super_cat = import_super()\n",
    "\n",
    "  max_dist = 40/3600\n",
    "  matches, no_matches = crossmatch(bss_cat, super_cat, max_dist)\n",
    "  print(matches[:3])\n",
    "  print(no_matches[:3])\n",
    "  print(len(no_matches))\n",
    "\n",
    "  max_dist = 5/3600\n",
    "  matches, no_matches = crossmatch(bss_cat, super_cat, max_dist)\n",
    "  print(matches[:3])\n",
    "  print(no_matches[:3])\n",
    "  print(len(no_matches))"
   ]
  }
 ],
 "metadata": {
  "kernelspec": {
   "display_name": "base",
   "language": "python",
   "name": "python3"
  },
  "language_info": {
   "codemirror_mode": {
    "name": "ipython",
    "version": 3
   },
   "file_extension": ".py",
   "mimetype": "text/x-python",
   "name": "python",
   "nbconvert_exporter": "python",
   "pygments_lexer": "ipython3",
   "version": "3.8.5"
  },
  "orig_nbformat": 4
 },
 "nbformat": 4,
 "nbformat_minor": 2
}
